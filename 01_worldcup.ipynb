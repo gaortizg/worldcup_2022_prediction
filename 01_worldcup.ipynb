{
 "cells": [
  {
   "cell_type": "code",
   "execution_count": null,
   "id": "9e5892d2",
   "metadata": {},
   "outputs": [],
   "source": [
    "import pandas as pd\n",
    "import pickle\n",
    "from string import ascii_uppercase as alphabet"
   ]
  },
  {
   "cell_type": "code",
   "execution_count": null,
   "id": "19bc5a02",
   "metadata": {
    "scrolled": true
   },
   "outputs": [],
   "source": [
    "# Scrap tables from web\n",
    "all_tables = pd.read_html(\"https://web.archive.org/web/20221115040351/https://en.wikipedia.org/wiki/2022_FIFA_World_Cup\")\n",
    "\n",
    "# Initialize dictionary\n",
    "dict_table = {}\n",
    "\n",
    "# Loop through each table of interest\n",
    "for letter, i in zip(alphabet, range(12, 68, 7)):\n",
    "    # Create Dataframe for each group in World Cup\n",
    "    df = all_tables[i]\n",
    "    # Rename the column 'Team'\n",
    "    df.rename(columns={df.columns[1]: \"Team\"}, inplace=True)\n",
    "    # Delete the 'Qualification' column\n",
    "    df.pop(\"Qualification\")\n",
    "    # Populate dictionary\n",
    "    dict_table[f\"Group {letter}\"] = df"
   ]
  },
  {
   "cell_type": "code",
   "execution_count": null,
   "id": "8c011535",
   "metadata": {},
   "outputs": [],
   "source": [
    "# Inspect Dictionary\n",
    "dict_table[\"Group A\"]"
   ]
  },
  {
   "cell_type": "code",
   "execution_count": null,
   "id": "e5fdec47",
   "metadata": {},
   "outputs": [],
   "source": [
    "# Save dictionary to binary file using pickle\n",
    "with open(\"dict_table.pkl\", \"wb\") as output:\n",
    "    pickle.dump(dict_table, output)"
   ]
  }
 ],
 "metadata": {
  "kernelspec": {
   "display_name": "Python 3 (ipykernel)",
   "language": "python",
   "name": "python3"
  },
  "language_info": {
   "codemirror_mode": {
    "name": "ipython",
    "version": 3
   },
   "file_extension": ".py",
   "mimetype": "text/x-python",
   "name": "python",
   "nbconvert_exporter": "python",
   "pygments_lexer": "ipython3",
   "version": "3.10.8"
  }
 },
 "nbformat": 4,
 "nbformat_minor": 5
}
